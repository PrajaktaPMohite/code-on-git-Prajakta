{
 "cells": [
  {
   "cell_type": "code",
   "execution_count": 5,
   "id": "e8176ea7",
   "metadata": {},
   "outputs": [],
   "source": [
    "# Import modules\n",
    "import matplotlib.pyplot as plt\n",
    "import numpy as np\n",
    "from numpy import nan\n",
    "import xarray as xr\n",
    "import pandas as pd\n",
    "import glob\n",
    "import os\n",
    "#import pygmt\n",
    "import math\n",
    "import scipy as sp\n",
    "import sympy as smp \n",
    "from numpy.linalg import norm"
   ]
  },
  {
   "cell_type": "code",
   "execution_count": 6,
   "id": "76affe0a",
   "metadata": {},
   "outputs": [
    {
     "data": {
      "text/plain": [
       "(array([-50., -49., -48., -47., -46., -45., -44., -43., -42., -41., -40.,\n",
       "        -39., -38., -37., -36., -35., -34., -33., -32., -31., -30., -29.,\n",
       "        -28., -27., -26., -25., -24., -23., -22., -21., -20., -19., -18.,\n",
       "        -17., -16., -15., -14., -13., -12., -11., -10.,  -9.,  -8.,  -7.,\n",
       "         -6.,  -5.,  -4.,  -3.,  -2.,  -1.,   0.,   1.,   2.,   3.,   4.,\n",
       "          5.,   6.,   7.,   8.,   9.,  10.,  11.,  12.,  13.,  14.,  15.,\n",
       "         16.,  17.,  18.,  19.,  20.,  21.,  22.,  23.,  24.,  25.,  26.,\n",
       "         27.,  28.,  29.,  30.,  31.,  32.,  33.,  34.,  35.,  36.,  37.,\n",
       "         38.,  39.,  40.,  41.,  42.,  43.,  44.,  45.,  46.,  47.,  48.,\n",
       "         49.,  50.]),\n",
       " array([50., 49., 48., 47., 46., 45., 44., 43., 42., 41., 40., 39., 38.,\n",
       "        37., 36., 35., 34., 33., 32., 31., 30., 29., 28., 27., 26., 25.,\n",
       "        24., 23., 22., 21., 20., 19., 18., 17., 16., 15., 14., 13., 12.,\n",
       "        11., 10.,  9.,  8.,  7.,  6.,  5.,  4.,  3.,  2.,  1.,  0.]))"
      ]
     },
     "execution_count": 6,
     "metadata": {},
     "output_type": "execute_result"
    }
   ],
   "source": [
    "horizontal = np.linspace(-50,50,101)     # x-coordinates\n",
    "vertical = np.arange(50.,-0.1,-1)       # y-coordinates\n",
    "\n",
    "'''calculating initial pressure'''\n",
    "#P = np.concatenate((np.repeat(0,30),np.arange(0.,10.25,0.25),np.repeat(0,30)))\n",
    "P = 8\n",
    "\n",
    "horizontal, vertical\n"
   ]
  },
  {
   "cell_type": "code",
   "execution_count": 9,
   "id": "5b4dd1ca",
   "metadata": {},
   "outputs": [
    {
     "name": "stderr",
     "output_type": "stream",
     "text": [
      "/tmp/ipykernel_532245/4000476153.py:41: RuntimeWarning: invalid value encountered in double_scalars\n",
      "  theta1 = np.arccos(sum1 / dot1)\n",
      "/tmp/ipykernel_532245/4000476153.py:42: RuntimeWarning: invalid value encountered in double_scalars\n",
      "  theta0 = np.arccos(sum2 / dot2)\n",
      "/tmp/ipykernel_532245/4000476153.py:43: RuntimeWarning: invalid value encountered in double_scalars\n",
      "  theta2 = np.arccos(sum3 / dot3)\n"
     ]
    }
   ],
   "source": [
    "'''### without function - no integration - as same as DAHM 2000 ###'''\n",
    "\n",
    "x = smp.symbols('x', real=True)\n",
    "#f1 = smp.sin(x)* smp.sin(x)\n",
    "#f2 = smp.cos(x)* smp.cos(x)\n",
    "#f3 = smp.sin(2*x)\n",
    "'''making symmetric model'''\n",
    "\n",
    "result_directory_1 = \"//home/prajakta_mohite/Data/DAHM2000/tests/pyramid_100X50/\"\n",
    "\n",
    "all_files_1 = glob.glob(os.path.join(result_directory_1,'INPUT*.dat'))\n",
    "for f in all_files_1:\n",
    "    os.remove(f)\n",
    "    \n",
    "    \n",
    "for i in range(len(vertical)): \n",
    "    for j in range(len(horizontal)): \n",
    "        A = horizontal[j] \n",
    "        B = vertical[i]\n",
    "        x1,y1 = A,B        # P1 Any point on grid   - starting point of A\n",
    "        x2,y2 = 0,B        # Normal                 - terminal of A\n",
    "        x3,y3 = x1,y1      # P1 Any point on grid   - starting point of B\n",
    "        x4,y4 = -20,0       # C1 (-4.0)              - could be terminal of B - B1\n",
    "        x5,y5 = 0,0       # C2 (0,0)               - could be terminal of B - B2\n",
    "        x6,y6 = 20,0       # C3 (4,0)               - could be terminal of B - B3\n",
    "        \n",
    "        sum1 = ((x2-x1) * (x4-x1)) + ((y2-y1) * (y4-y1))   # normal + negative\n",
    "        sum2 = ((x2-x3) * (x5-x3)) + ((y2-y3) * (y5-y3))   # normal + zero\n",
    "        sum3 = ((x2-x3) * (x6-x3)) + ((y2-y3) * (y6-y3))   # normal + positive \n",
    "        \n",
    "        sum4 = np.sqrt(np.square(x2-x1) + np.square(y2-y1)) # P1 + normal\n",
    "        \n",
    "        sum5 = np.sqrt(np.square(x4-x3) + np.square(y4-y3))  # P1 + negative\n",
    "        sum6 = np.sqrt(np.square(x5-x3) + np.square(y5-y3))  # P1 + zero\n",
    "        sum7 = np.sqrt(np.square(x6-x3) + np.square(y6-y3))  # P1 + positive\n",
    "        \n",
    "        dot1 = np.dot(sum4,sum5)\n",
    "        dot2 = np.dot(sum4,sum6)\n",
    "        dot3 = np.dot(sum4,sum7)\n",
    "        \n",
    "        theta1 = np.arccos(sum1 / dot1)\n",
    "        theta0 = np.arccos(sum2 / dot2)   \n",
    "        theta2 = np.arccos(sum3 / dot3)\n",
    "     \n",
    "        r1 = math.dist((x1,y1),(x4,y4))      ### distance between P1 and C1\n",
    "        r2 = math.dist((x1,y1),(x6,y6))      ### distance between P1 and C2\n",
    "        ''' Integrating equation A1 from Gaetano'''\n",
    "        if (r1 != 0 and r2 != 0):\n",
    "            sxx = abs(P/2*np.pi*((1+x1/20)*(theta1-theta2)+np.sin(2*theta1)-((2*y1/20)*math.log(r2/r1))))\n",
    "            syy = abs(P/2*np.pi*((1+x1/20)*(theta1-theta2)-np.sin(2*theta1)))\n",
    "            sxy = (P/2*np.pi*((1-y1/20)*(theta1-theta2) - np.cos(2*theta1)))\n",
    "        else:\n",
    "            sxx = 0\n",
    "            syy = 0\n",
    "            sxy = 0\n",
    "\n",
    "        '''Dahm 2000 Method'''\n",
    "        '''with integration function'''\n",
    "        #xx_stress = abs(2*p0/np.pi* smp.integrate(f1,(x,theta1,theta2)).simplify().evalf())\n",
    "        #yy_stress = abs(2*p0/np.pi* smp.integrate(f2,(x,theta1,theta2)).simplify().evalf())\n",
    "        #xy_stress = 2*p0/np.pi* smp.integrate(f3,(x,theta1,theta2)).simplify().evalf() \n",
    "\n",
    "      \n",
    "        f = open(result_directory_1 + \"INPUT_STRESS_FILE.dat\",\"a+\")\n",
    "        f.write(\"%6.5f %6.5f %6.5f %6.5f %6.5f \\n\" % \\\n",
    "                   (x1, y1, sxx,syy,sxy))\n",
    "        f.close()\n",
    "        \n",
    "        f = open(result_directory_1 + \"INPUT_STRESS_FILE_unloading.dat\",\"a+\")\n",
    "        f.write(\"%6.5f %6.5f %6.5f %6.5f %6.5f \\n\" % \\\n",
    "                   (x1, y1, -sxx,-syy,-sxy))\n",
    "        f.close()\n",
    "      #  print(x1,y1,P,sxx,syy,sxy)"
   ]
  },
  {
   "cell_type": "code",
   "execution_count": null,
   "id": "b9f7c90b",
   "metadata": {
    "scrolled": true
   },
   "outputs": [],
   "source": []
  },
  {
   "cell_type": "code",
   "execution_count": null,
   "id": "28205ec6",
   "metadata": {},
   "outputs": [],
   "source": []
  },
  {
   "cell_type": "code",
   "execution_count": null,
   "id": "e8eed456",
   "metadata": {},
   "outputs": [],
   "source": []
  },
  {
   "cell_type": "code",
   "execution_count": null,
   "id": "62c76df1",
   "metadata": {},
   "outputs": [],
   "source": []
  },
  {
   "cell_type": "code",
   "execution_count": null,
   "id": "00aeb33d",
   "metadata": {},
   "outputs": [],
   "source": []
  },
  {
   "cell_type": "code",
   "execution_count": null,
   "id": "ad118902",
   "metadata": {},
   "outputs": [],
   "source": []
  },
  {
   "cell_type": "code",
   "execution_count": null,
   "id": "bc46c0a8",
   "metadata": {},
   "outputs": [],
   "source": []
  },
  {
   "cell_type": "code",
   "execution_count": 28,
   "id": "460d4679",
   "metadata": {},
   "outputs": [
    {
     "ename": "IndentationError",
     "evalue": "unexpected indent (2970959824.py, line 15)",
     "output_type": "error",
     "traceback": [
      "\u001b[0;36m  Input \u001b[0;32mIn [28]\u001b[0;36m\u001b[0m\n\u001b[0;31m    syy= P[i]/np.pi*\\\u001b[0m\n\u001b[0m    ^\u001b[0m\n\u001b[0;31mIndentationError\u001b[0m\u001b[0;31m:\u001b[0m unexpected indent\n"
     ]
    }
   ],
   "source": [
    "### integrant function - integration not required\n",
    "\n",
    "sxx= P[i]/np.pi*\\\n",
    "        abs((theta0 - 0.5*smp.sin(2*theta0))*(1+(x1/x4))\\\n",
    "            +height[i]/x4*(smp.sin(theta0)*smp.sin(theta0)+2*math.log(smp.cos(theta0)))-\\\n",
    "            (theta1 - 0.5*smp.sin(2*theta1))*(1+(x1/x4))\\\n",
    "            +height[i]/x4*(smp.sin(theta1)*smp.sin(theta1)+2*math.log(smp.cos(theta1))))\\\n",
    "        \\\n",
    "            +P[i]/np.pi*\\\n",
    "        abs((theta2 - 0.5*smp.sin(2*theta2))*(1-(x1/x4))\\\n",
    "            -height[i]/x4*(smp.sin(theta2)*smp.sin(theta2)+2*math.log(smp.cos(theta2)))-\\\n",
    "            (theta0 - 0.5*smp.sin(2*theta0))*(1-(x1/x4))\\\n",
    "            -height[i]/x4*(smp.sin(theta0)*smp.sin(theta0)+2*math.log(smp.cos(theta0)))).simplify().evalf()\n",
    "        \n",
    "        syy= P[i]/np.pi*\\\n",
    "        abs((theta0 + 0.5*smp.sin(2*theta0))*(1+(x1/x6))\\\n",
    "            -height[i]/x6*(smp.sin(theta0)*smp.sin(theta0))-\\\n",
    "            (theta1 + 0.5*smp.sin(2*theta1))*(1+(x1/x6))\\\n",
    "            -height[i]/x6*(smp.sin(theta1)*smp.sin(theta1)))\\\n",
    "        \\\n",
    "            +P[i]/np.pi*\\\n",
    "        abs((theta2 + 0.5*smp.sin(2*theta2))*(1-(x1/x4))\\\n",
    "            -height[i]/x4*(smp.sin(theta2)*smp.sin(theta2))-\\\n",
    "            (theta0 + 0.5*smp.sin(2*theta0))*(1-(x1/x4))\\\n",
    "            -height[i]/x4*(smp.sin(theta0)*smp.sin(theta0))).simplify().evalf()\n",
    "        \n",
    "        sxy = P[i]/np.pi*\\\n",
    "        abs((smp.sin(theta0)*smp.sin(theta0)*(1+ (x1/x6)))-height[i]/x6*(theta0 -0.5*smp.sin(2*theta0))-\\\n",
    "            (smp.sin(theta1)*smp.sin(theta1)*(1+ (x1/x6)))-height[i]/x6*(theta1 -0.5*smp.sin(2*theta1)))\n",
    "        \\\n",
    "            +P[i]/np.pi*\\\n",
    "        abs((smp.sin(theta2)*smp.sin(theta2)*(1-(x1/x4)))+height[i]/x4*(theta2 -0.5*smp.sin(2*theta2))-\\\n",
    "            (smp.sin(theta0)*smp.sin(theta0)*(1-(x1/x4)))+height[i]/x4*(theta0 -0.5*smp.sin(2*theta0))).simplify().evalf()\n",
    "            "
   ]
  },
  {
   "cell_type": "code",
   "execution_count": null,
   "id": "da1e030c",
   "metadata": {},
   "outputs": [],
   "source": []
  }
 ],
 "metadata": {
  "kernelspec": {
   "display_name": "Python 3 (ipykernel)",
   "language": "python",
   "name": "python3"
  },
  "language_info": {
   "codemirror_mode": {
    "name": "ipython",
    "version": 3
   },
   "file_extension": ".py",
   "mimetype": "text/x-python",
   "name": "python",
   "nbconvert_exporter": "python",
   "pygments_lexer": "ipython3",
   "version": "3.10.6"
  }
 },
 "nbformat": 4,
 "nbformat_minor": 5
}
